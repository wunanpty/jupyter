{
 "cells": [
  {
   "cell_type": "code",
   "execution_count": 5,
   "id": "61d17899",
   "metadata": {},
   "outputs": [],
   "source": [
    "import pandas as pd\n",
    "import seaborn as sns\n",
    "sns.set(color_codes=True)"
   ]
  },
  {
   "cell_type": "code",
   "execution_count": 11,
   "id": "b3a79ed1",
   "metadata": {},
   "outputs": [],
   "source": [
    "postgre=pd.read_csv('postgre.csv')"
   ]
  },
  {
   "cell_type": "code",
   "execution_count": 12,
   "id": "7e9db186",
   "metadata": {},
   "outputs": [
    {
     "data": {
      "text/html": [
       "<div>\n",
       "<style scoped>\n",
       "    .dataframe tbody tr th:only-of-type {\n",
       "        vertical-align: middle;\n",
       "    }\n",
       "\n",
       "    .dataframe tbody tr th {\n",
       "        vertical-align: top;\n",
       "    }\n",
       "\n",
       "    .dataframe thead th {\n",
       "        text-align: right;\n",
       "    }\n",
       "</style>\n",
       "<table border=\"1\" class=\"dataframe\">\n",
       "  <thead>\n",
       "    <tr style=\"text-align: right;\">\n",
       "      <th></th>\n",
       "      <th>System</th>\n",
       "      <th>pgbench_ScalingFactor1_Clients50_ReadWrite_ms</th>\n",
       "      <th>pgbench_ScalingFactor1_Clients50_ReadWrite_TPS</th>\n",
       "      <th>pgbench_ScalingFactor100_Clients50_ReadWrite_ms</th>\n",
       "      <th>pgbench_ScalingFactor100_Clients50_ReadWrite_TPS</th>\n",
       "    </tr>\n",
       "  </thead>\n",
       "  <tbody>\n",
       "    <tr>\n",
       "      <th>0</th>\n",
       "      <td>Hyper-v VM</td>\n",
       "      <td>170.240</td>\n",
       "      <td>284.67</td>\n",
       "      <td>29215.266</td>\n",
       "      <td>1.7</td>\n",
       "    </tr>\n",
       "    <tr>\n",
       "      <th>1</th>\n",
       "      <td>Bare Metal</td>\n",
       "      <td>118.027</td>\n",
       "      <td>423.80</td>\n",
       "      <td>14.100</td>\n",
       "      <td>3548.6</td>\n",
       "    </tr>\n",
       "  </tbody>\n",
       "</table>\n",
       "</div>"
      ],
      "text/plain": [
       "       System  pgbench_ScalingFactor1_Clients50_ReadWrite_ms  \\\n",
       "0  Hyper-v VM                                        170.240   \n",
       "1  Bare Metal                                        118.027   \n",
       "\n",
       "   pgbench_ScalingFactor1_Clients50_ReadWrite_TPS  \\\n",
       "0                                          284.67   \n",
       "1                                          423.80   \n",
       "\n",
       "   pgbench_ScalingFactor100_Clients50_ReadWrite_ms  \\\n",
       "0                                        29215.266   \n",
       "1                                           14.100   \n",
       "\n",
       "   pgbench_ScalingFactor100_Clients50_ReadWrite_TPS  \n",
       "0                                               1.7  \n",
       "1                                            3548.6  "
      ]
     },
     "execution_count": 12,
     "metadata": {},
     "output_type": "execute_result"
    }
   ],
   "source": [
    "postgre.head()"
   ]
  },
  {
   "cell_type": "code",
   "execution_count": 13,
   "id": "27f91b4c",
   "metadata": {},
   "outputs": [
    {
     "name": "stdout",
     "output_type": "stream",
     "text": [
      "<class 'pandas.core.frame.DataFrame'>\n",
      "RangeIndex: 2 entries, 0 to 1\n",
      "Data columns (total 5 columns):\n",
      " #   Column                                            Non-Null Count  Dtype  \n",
      "---  ------                                            --------------  -----  \n",
      " 0   System                                            2 non-null      object \n",
      " 1   pgbench_ScalingFactor1_Clients50_ReadWrite_ms     2 non-null      float64\n",
      " 2   pgbench_ScalingFactor1_Clients50_ReadWrite_TPS    2 non-null      float64\n",
      " 3   pgbench_ScalingFactor100_Clients50_ReadWrite_ms   2 non-null      float64\n",
      " 4   pgbench_ScalingFactor100_Clients50_ReadWrite_TPS  2 non-null      float64\n",
      "dtypes: float64(4), object(1)\n",
      "memory usage: 136.0+ bytes\n"
     ]
    }
   ],
   "source": [
    "\n",
    "postgre.info()"
   ]
  },
  {
   "cell_type": "code",
   "execution_count": 10,
   "id": "46d081e9",
   "metadata": {
    "scrolled": true
   },
   "outputs": [
    {
     "name": "stderr",
     "output_type": "stream",
     "text": [
      "c:\\users\\wunan\\appdata\\local\\programs\\python\\python37-32\\lib\\site-packages\\seaborn\\_decorators.py:43: FutureWarning: Pass the following variables as keyword args: x, y. From version 0.12, the only valid positional argument will be `data`, and passing other arguments without an explicit keyword will result in an error or misinterpretation.\n",
      "  FutureWarning\n"
     ]
    },
    {
     "data": {
      "text/plain": [
       "<AxesSubplot:xlabel='System', ylabel='pgbench_ScalingFactor1_Clients50_ReadWrite_ms'>"
      ]
     },
     "execution_count": 10,
     "metadata": {},
     "output_type": "execute_result"
    },
    {
     "data": {
      "image/png": "[encoded data removed]",
      "text/plain": [
       "<Figure size 432x288 with 1 Axes>"
      ]
     },
     "metadata": {},
     "output_type": "display_data"
    }
   ],
   "source": [
    "sns.barplot(postgre['System'], postgre['pgbench_ScalingFactor1_Clients50_ReadWrite_ms'])"
   ]
  },
  {
   "cell_type": "code",
   "execution_count": null,
   "id": "03a28b5d",
   "metadata": {},
   "outputs": [],
   "source": []
  }
 ],
 "metadata": {
  "kernelspec": {
   "display_name": "Python 3",
   "language": "python",
   "name": "python3"
  },
  "language_info": {
   "codemirror_mode": {
    "name": "ipython",
    "version": 3
   },
   "file_extension": ".py",
   "mimetype": "text/x-python",
   "name": "python",
   "nbconvert_exporter": "python",
   "pygments_lexer": "ipython3",
   "version": "3.7.4"
  }
 },
 "nbformat": 4,
 "nbformat_minor": 5
}
